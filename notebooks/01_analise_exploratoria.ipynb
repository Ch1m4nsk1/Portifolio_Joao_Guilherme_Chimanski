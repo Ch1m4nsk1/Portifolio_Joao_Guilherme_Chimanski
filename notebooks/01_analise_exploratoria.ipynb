{
 "cells": [
  {
   "cell_type": "markdown",
   "id": "3e227ba4",
   "metadata": {},
   "source": [
    "01_analise_exploratoria – Análise Exploratória de Dados (EDA)\n",
    "Neste notebook são realizadas as etapas de:\n",
    "- Carregamento e limpeza dos dados brutos;\n",
    "- Tratamento de valores ausentes e padronização de variáveis;\n",
    "- Análise descritiva;\n",
    "- Visualizações iniciais para identificar tendências, correlações e outliers.\n",
    "\n",
    "O objetivo é compreender o comportamento dos dados e definir hipóteses para a modelagem."
   ]
  },
  {
   "cell_type": "code",
   "execution_count": 79,
   "id": "5415db85",
   "metadata": {},
   "outputs": [],
   "source": [
    "# Bibliotecas\n",
    "import pandas as pd\n",
    "import numpy as np\n",
    "import plotly.express as plt\n"
   ]
  },
  {
   "cell_type": "code",
   "execution_count": 80,
   "id": "6c7d5410",
   "metadata": {},
   "outputs": [],
   "source": [
    "# Definindo o path base\n",
    "path = 'C:/Users/joao9/Documents/Area_de_Trabalho_Python/Portfolio/Portifolio_Joao_Guilherme_Chimanski/'"
   ]
  },
  {
   "cell_type": "code",
   "execution_count": 81,
   "id": "b8a74586",
   "metadata": {},
   "outputs": [],
   "source": [
    "# Leitura dos dados\n",
    "df_IPCA = pd.read_csv(path + 'data/raw/IPCA.csv', sep='\\t')\n",
    "df_CEPEA = pd.read_csv(path + 'data/raw/CEPEA_ESALQ.csv', sep='\\t')"
   ]
  },
  {
   "cell_type": "code",
   "execution_count": 82,
   "id": "78c62276-2d93-44f9-b917-861531f7a74a",
   "metadata": {},
   "outputs": [
    {
     "data": {
      "application/vnd.microsoft.datawrangler.viewer.v0+json": {
       "columns": [
        {
         "name": "index",
         "rawType": "int64",
         "type": "integer"
        },
        {
         "name": "Unnamed: 0",
         "rawType": "object",
         "type": "string"
        },
        {
         "name": "julho 1994",
         "rawType": "object",
         "type": "string"
        },
        {
         "name": "agosto 1994",
         "rawType": "object",
         "type": "string"
        },
        {
         "name": "setembro 1994",
         "rawType": "object",
         "type": "string"
        },
        {
         "name": "outubro 1994",
         "rawType": "object",
         "type": "string"
        },
        {
         "name": "novembro 1994",
         "rawType": "object",
         "type": "string"
        },
        {
         "name": "dezembro 1994",
         "rawType": "object",
         "type": "string"
        },
        {
         "name": "janeiro 1995",
         "rawType": "object",
         "type": "string"
        },
        {
         "name": "fevereiro 1995",
         "rawType": "object",
         "type": "string"
        },
        {
         "name": "março 1995",
         "rawType": "object",
         "type": "string"
        },
        {
         "name": "abril 1995",
         "rawType": "object",
         "type": "string"
        },
        {
         "name": "maio 1995",
         "rawType": "object",
         "type": "string"
        },
        {
         "name": "junho 1995",
         "rawType": "object",
         "type": "string"
        },
        {
         "name": "julho 1995",
         "rawType": "object",
         "type": "string"
        },
        {
         "name": "agosto 1995",
         "rawType": "object",
         "type": "string"
        },
        {
         "name": "setembro 1995",
         "rawType": "object",
         "type": "string"
        },
        {
         "name": "outubro 1995",
         "rawType": "object",
         "type": "string"
        },
        {
         "name": "novembro 1995",
         "rawType": "object",
         "type": "string"
        },
        {
         "name": "dezembro 1995",
         "rawType": "object",
         "type": "string"
        },
        {
         "name": "janeiro 1996",
         "rawType": "object",
         "type": "string"
        },
        {
         "name": "fevereiro 1996",
         "rawType": "object",
         "type": "string"
        },
        {
         "name": "março 1996",
         "rawType": "object",
         "type": "string"
        },
        {
         "name": "abril 1996",
         "rawType": "object",
         "type": "string"
        },
        {
         "name": "maio 1996",
         "rawType": "object",
         "type": "string"
        },
        {
         "name": "junho 1996",
         "rawType": "object",
         "type": "string"
        },
        {
         "name": "julho 1996",
         "rawType": "object",
         "type": "string"
        },
        {
         "name": "agosto 1996",
         "rawType": "object",
         "type": "string"
        },
        {
         "name": "setembro 1996",
         "rawType": "object",
         "type": "string"
        },
        {
         "name": "outubro 1996",
         "rawType": "object",
         "type": "string"
        },
        {
         "name": "novembro 1996",
         "rawType": "object",
         "type": "string"
        },
        {
         "name": "dezembro 1996",
         "rawType": "object",
         "type": "string"
        },
        {
         "name": "janeiro 1997",
         "rawType": "object",
         "type": "string"
        },
        {
         "name": "fevereiro 1997",
         "rawType": "object",
         "type": "string"
        },
        {
         "name": "março 1997",
         "rawType": "object",
         "type": "string"
        },
        {
         "name": "abril 1997",
         "rawType": "object",
         "type": "string"
        },
        {
         "name": "maio 1997",
         "rawType": "object",
         "type": "string"
        },
        {
         "name": "junho 1997",
         "rawType": "object",
         "type": "string"
        },
        {
         "name": "julho 1997",
         "rawType": "object",
         "type": "string"
        },
        {
         "name": "agosto 1997",
         "rawType": "object",
         "type": "string"
        },
        {
         "name": "setembro 1997",
         "rawType": "object",
         "type": "string"
        },
        {
         "name": "outubro 1997",
         "rawType": "object",
         "type": "string"
        },
        {
         "name": "novembro 1997",
         "rawType": "object",
         "type": "string"
        },
        {
         "name": "dezembro 1997",
         "rawType": "object",
         "type": "string"
        },
        {
         "name": "janeiro 1998",
         "rawType": "object",
         "type": "string"
        },
        {
         "name": "fevereiro 1998",
         "rawType": "object",
         "type": "string"
        },
        {
         "name": "março 1998",
         "rawType": "object",
         "type": "string"
        },
        {
         "name": "abril 1998",
         "rawType": "object",
         "type": "string"
        },
        {
         "name": "maio 1998",
         "rawType": "object",
         "type": "string"
        },
        {
         "name": "junho 1998",
         "rawType": "object",
         "type": "string"
        },
        {
         "name": "julho 1998",
         "rawType": "object",
         "type": "string"
        },
        {
         "name": "agosto 1998",
         "rawType": "object",
         "type": "string"
        },
        {
         "name": "setembro 1998",
         "rawType": "object",
         "type": "string"
        },
        {
         "name": "outubro 1998",
         "rawType": "object",
         "type": "string"
        },
        {
         "name": "novembro 1998",
         "rawType": "object",
         "type": "string"
        },
        {
         "name": "dezembro 1998",
         "rawType": "object",
         "type": "string"
        },
        {
         "name": "janeiro 1999",
         "rawType": "object",
         "type": "string"
        },
        {
         "name": "fevereiro 1999",
         "rawType": "object",
         "type": "string"
        },
        {
         "name": "março 1999",
         "rawType": "object",
         "type": "string"
        },
        {
         "name": "abril 1999",
         "rawType": "object",
         "type": "string"
        },
        {
         "name": "maio 1999",
         "rawType": "object",
         "type": "string"
        },
        {
         "name": "junho 1999",
         "rawType": "object",
         "type": "string"
        },
        {
         "name": "julho 1999",
         "rawType": "object",
         "type": "string"
        },
        {
         "name": "agosto 1999",
         "rawType": "object",
         "type": "string"
        },
        {
         "name": "setembro 1999",
         "rawType": "object",
         "type": "string"
        },
        {
         "name": "outubro 1999",
         "rawType": "object",
         "type": "string"
        },
        {
         "name": "novembro 1999",
         "rawType": "object",
         "type": "string"
        },
        {
         "name": "dezembro 1999",
         "rawType": "object",
         "type": "string"
        },
        {
         "name": "janeiro 2000",
         "rawType": "object",
         "type": "string"
        },
        {
         "name": "fevereiro 2000",
         "rawType": "object",
         "type": "string"
        },
        {
         "name": "março 2000",
         "rawType": "object",
         "type": "string"
        },
        {
         "name": "abril 2000",
         "rawType": "object",
         "type": "string"
        },
        {
         "name": "maio 2000",
         "rawType": "object",
         "type": "string"
        },
        {
         "name": "junho 2000",
         "rawType": "object",
         "type": "string"
        },
        {
         "name": "julho 2000",
         "rawType": "object",
         "type": "string"
        },
        {
         "name": "agosto 2000",
         "rawType": "object",
         "type": "string"
        },
        {
         "name": "setembro 2000",
         "rawType": "object",
         "type": "string"
        },
        {
         "name": "outubro 2000",
         "rawType": "object",
         "type": "string"
        },
        {
         "name": "novembro 2000",
         "rawType": "object",
         "type": "string"
        },
        {
         "name": "dezembro 2000",
         "rawType": "object",
         "type": "string"
        },
        {
         "name": "janeiro 2001",
         "rawType": "object",
         "type": "string"
        },
        {
         "name": "fevereiro 2001",
         "rawType": "object",
         "type": "string"
        },
        {
         "name": "março 2001",
         "rawType": "object",
         "type": "string"
        },
        {
         "name": "abril 2001",
         "rawType": "object",
         "type": "string"
        },
        {
         "name": "maio 2001",
         "rawType": "object",
         "type": "string"
        },
        {
         "name": "junho 2001",
         "rawType": "object",
         "type": "string"
        },
        {
         "name": "julho 2001",
         "rawType": "object",
         "type": "string"
        },
        {
         "name": "agosto 2001",
         "rawType": "object",
         "type": "string"
        },
        {
         "name": "setembro 2001",
         "rawType": "object",
         "type": "string"
        },
        {
         "name": "outubro 2001",
         "rawType": "object",
         "type": "string"
        },
        {
         "name": "novembro 2001",
         "rawType": "object",
         "type": "string"
        },
        {
         "name": "dezembro 2001",
         "rawType": "object",
         "type": "string"
        },
        {
         "name": "janeiro 2002",
         "rawType": "object",
         "type": "string"
        },
        {
         "name": "fevereiro 2002",
         "rawType": "object",
         "type": "string"
        },
        {
         "name": "março 2002",
         "rawType": "object",
         "type": "string"
        },
        {
         "name": "abril 2002",
         "rawType": "object",
         "type": "string"
        },
        {
         "name": "maio 2002",
         "rawType": "object",
         "type": "string"
        },
        {
         "name": "junho 2002",
         "rawType": "object",
         "type": "string"
        },
        {
         "name": "julho 2002",
         "rawType": "object",
         "type": "string"
        },
        {
         "name": "agosto 2002",
         "rawType": "object",
         "type": "string"
        },
        {
         "name": "setembro 2002",
         "rawType": "object",
         "type": "string"
        },
        {
         "name": "outubro 2002",
         "rawType": "object",
         "type": "string"
        },
        {
         "name": "novembro 2002",
         "rawType": "object",
         "type": "string"
        },
        {
         "name": "dezembro 2002",
         "rawType": "object",
         "type": "string"
        },
        {
         "name": "janeiro 2003",
         "rawType": "object",
         "type": "string"
        },
        {
         "name": "fevereiro 2003",
         "rawType": "object",
         "type": "string"
        },
        {
         "name": "março 2003",
         "rawType": "object",
         "type": "string"
        },
        {
         "name": "abril 2003",
         "rawType": "object",
         "type": "string"
        },
        {
         "name": "maio 2003",
         "rawType": "object",
         "type": "string"
        },
        {
         "name": "junho 2003",
         "rawType": "object",
         "type": "string"
        },
        {
         "name": "julho 2003",
         "rawType": "object",
         "type": "string"
        },
        {
         "name": "agosto 2003",
         "rawType": "object",
         "type": "string"
        },
        {
         "name": "setembro 2003",
         "rawType": "object",
         "type": "string"
        },
        {
         "name": "outubro 2003",
         "rawType": "object",
         "type": "string"
        },
        {
         "name": "novembro 2003",
         "rawType": "object",
         "type": "string"
        },
        {
         "name": "dezembro 2003",
         "rawType": "object",
         "type": "string"
        },
        {
         "name": "janeiro 2004",
         "rawType": "object",
         "type": "string"
        },
        {
         "name": "fevereiro 2004",
         "rawType": "object",
         "type": "string"
        },
        {
         "name": "março 2004",
         "rawType": "object",
         "type": "string"
        },
        {
         "name": "abril 2004",
         "rawType": "object",
         "type": "string"
        },
        {
         "name": "maio 2004",
         "rawType": "object",
         "type": "string"
        },
        {
         "name": "junho 2004",
         "rawType": "object",
         "type": "string"
        },
        {
         "name": "julho 2004",
         "rawType": "object",
         "type": "string"
        },
        {
         "name": "agosto 2004",
         "rawType": "object",
         "type": "string"
        },
        {
         "name": "setembro 2004",
         "rawType": "object",
         "type": "string"
        },
        {
         "name": "outubro 2004",
         "rawType": "object",
         "type": "string"
        },
        {
         "name": "novembro 2004",
         "rawType": "object",
         "type": "string"
        },
        {
         "name": "dezembro 2004",
         "rawType": "object",
         "type": "string"
        },
        {
         "name": "janeiro 2005",
         "rawType": "object",
         "type": "string"
        },
        {
         "name": "fevereiro 2005",
         "rawType": "object",
         "type": "string"
        },
        {
         "name": "março 2005",
         "rawType": "object",
         "type": "string"
        },
        {
         "name": "abril 2005",
         "rawType": "object",
         "type": "string"
        },
        {
         "name": "maio 2005",
         "rawType": "object",
         "type": "string"
        },
        {
         "name": "junho 2005",
         "rawType": "object",
         "type": "string"
        },
        {
         "name": "julho 2005",
         "rawType": "object",
         "type": "string"
        },
        {
         "name": "agosto 2005",
         "rawType": "object",
         "type": "string"
        },
        {
         "name": "setembro 2005",
         "rawType": "object",
         "type": "string"
        },
        {
         "name": "outubro 2005",
         "rawType": "object",
         "type": "string"
        },
        {
         "name": "novembro 2005",
         "rawType": "object",
         "type": "string"
        },
        {
         "name": "dezembro 2005",
         "rawType": "object",
         "type": "string"
        },
        {
         "name": "janeiro 2006",
         "rawType": "object",
         "type": "string"
        },
        {
         "name": "fevereiro 2006",
         "rawType": "object",
         "type": "string"
        },
        {
         "name": "março 2006",
         "rawType": "object",
         "type": "string"
        },
        {
         "name": "abril 2006",
         "rawType": "object",
         "type": "string"
        },
        {
         "name": "maio 2006",
         "rawType": "object",
         "type": "string"
        },
        {
         "name": "junho 2006",
         "rawType": "object",
         "type": "string"
        },
        {
         "name": "julho 2006",
         "rawType": "object",
         "type": "string"
        },
        {
         "name": "agosto 2006",
         "rawType": "object",
         "type": "string"
        },
        {
         "name": "setembro 2006",
         "rawType": "object",
         "type": "string"
        },
        {
         "name": "outubro 2006",
         "rawType": "object",
         "type": "string"
        },
        {
         "name": "novembro 2006",
         "rawType": "object",
         "type": "string"
        },
        {
         "name": "dezembro 2006",
         "rawType": "object",
         "type": "string"
        },
        {
         "name": "janeiro 2007",
         "rawType": "object",
         "type": "string"
        },
        {
         "name": "fevereiro 2007",
         "rawType": "object",
         "type": "string"
        },
        {
         "name": "março 2007",
         "rawType": "object",
         "type": "string"
        },
        {
         "name": "abril 2007",
         "rawType": "object",
         "type": "string"
        },
        {
         "name": "maio 2007",
         "rawType": "object",
         "type": "string"
        },
        {
         "name": "junho 2007",
         "rawType": "object",
         "type": "string"
        },
        {
         "name": "julho 2007",
         "rawType": "object",
         "type": "string"
        },
        {
         "name": "agosto 2007",
         "rawType": "object",
         "type": "string"
        },
        {
         "name": "setembro 2007",
         "rawType": "object",
         "type": "string"
        },
        {
         "name": "outubro 2007",
         "rawType": "object",
         "type": "string"
        },
        {
         "name": "novembro 2007",
         "rawType": "object",
         "type": "string"
        },
        {
         "name": "dezembro 2007",
         "rawType": "object",
         "type": "string"
        },
        {
         "name": "janeiro 2008",
         "rawType": "object",
         "type": "string"
        },
        {
         "name": "fevereiro 2008",
         "rawType": "object",
         "type": "string"
        },
        {
         "name": "março 2008",
         "rawType": "object",
         "type": "string"
        },
        {
         "name": "abril 2008",
         "rawType": "object",
         "type": "string"
        },
        {
         "name": "maio 2008",
         "rawType": "object",
         "type": "string"
        },
        {
         "name": "junho 2008",
         "rawType": "object",
         "type": "string"
        },
        {
         "name": "julho 2008",
         "rawType": "object",
         "type": "string"
        },
        {
         "name": "agosto 2008",
         "rawType": "object",
         "type": "string"
        },
        {
         "name": "setembro 2008",
         "rawType": "object",
         "type": "string"
        },
        {
         "name": "outubro 2008",
         "rawType": "object",
         "type": "string"
        },
        {
         "name": "novembro 2008",
         "rawType": "object",
         "type": "string"
        },
        {
         "name": "dezembro 2008",
         "rawType": "object",
         "type": "string"
        },
        {
         "name": "janeiro 2009",
         "rawType": "object",
         "type": "string"
        },
        {
         "name": "fevereiro 2009",
         "rawType": "object",
         "type": "string"
        },
        {
         "name": "março 2009",
         "rawType": "object",
         "type": "string"
        },
        {
         "name": "abril 2009",
         "rawType": "object",
         "type": "string"
        },
        {
         "name": "maio 2009",
         "rawType": "object",
         "type": "string"
        },
        {
         "name": "junho 2009",
         "rawType": "object",
         "type": "string"
        },
        {
         "name": "julho 2009",
         "rawType": "object",
         "type": "string"
        },
        {
         "name": "agosto 2009",
         "rawType": "object",
         "type": "string"
        },
        {
         "name": "setembro 2009",
         "rawType": "object",
         "type": "string"
        },
        {
         "name": "outubro 2009",
         "rawType": "object",
         "type": "string"
        },
        {
         "name": "novembro 2009",
         "rawType": "object",
         "type": "string"
        },
        {
         "name": "dezembro 2009",
         "rawType": "object",
         "type": "string"
        },
        {
         "name": "janeiro 2010",
         "rawType": "object",
         "type": "string"
        },
        {
         "name": "fevereiro 2010",
         "rawType": "object",
         "type": "string"
        },
        {
         "name": "março 2010",
         "rawType": "object",
         "type": "string"
        },
        {
         "name": "abril 2010",
         "rawType": "object",
         "type": "string"
        },
        {
         "name": "maio 2010",
         "rawType": "object",
         "type": "string"
        },
        {
         "name": "junho 2010",
         "rawType": "int64",
         "type": "integer"
        },
        {
         "name": "julho 2010",
         "rawType": "object",
         "type": "string"
        },
        {
         "name": "agosto 2010",
         "rawType": "object",
         "type": "string"
        },
        {
         "name": "setembro 2010",
         "rawType": "object",
         "type": "string"
        },
        {
         "name": "outubro 2010",
         "rawType": "object",
         "type": "string"
        },
        {
         "name": "novembro 2010",
         "rawType": "object",
         "type": "string"
        },
        {
         "name": "dezembro 2010",
         "rawType": "object",
         "type": "string"
        },
        {
         "name": "janeiro 2011",
         "rawType": "object",
         "type": "string"
        },
        {
         "name": "fevereiro 2011",
         "rawType": "object",
         "type": "string"
        },
        {
         "name": "março 2011",
         "rawType": "object",
         "type": "string"
        },
        {
         "name": "abril 2011",
         "rawType": "object",
         "type": "string"
        },
        {
         "name": "maio 2011",
         "rawType": "object",
         "type": "string"
        },
        {
         "name": "junho 2011",
         "rawType": "object",
         "type": "string"
        },
        {
         "name": "julho 2011",
         "rawType": "object",
         "type": "string"
        },
        {
         "name": "agosto 2011",
         "rawType": "object",
         "type": "string"
        },
        {
         "name": "setembro 2011",
         "rawType": "object",
         "type": "string"
        },
        {
         "name": "outubro 2011",
         "rawType": "object",
         "type": "string"
        },
        {
         "name": "novembro 2011",
         "rawType": "object",
         "type": "string"
        },
        {
         "name": "dezembro 2011",
         "rawType": "object",
         "type": "string"
        },
        {
         "name": "janeiro 2012",
         "rawType": "object",
         "type": "string"
        },
        {
         "name": "fevereiro 2012",
         "rawType": "object",
         "type": "string"
        },
        {
         "name": "março 2012",
         "rawType": "object",
         "type": "string"
        },
        {
         "name": "abril 2012",
         "rawType": "object",
         "type": "string"
        },
        {
         "name": "maio 2012",
         "rawType": "object",
         "type": "string"
        },
        {
         "name": "junho 2012",
         "rawType": "object",
         "type": "string"
        },
        {
         "name": "julho 2012",
         "rawType": "object",
         "type": "string"
        },
        {
         "name": "agosto 2012",
         "rawType": "object",
         "type": "string"
        },
        {
         "name": "setembro 2012",
         "rawType": "object",
         "type": "string"
        },
        {
         "name": "outubro 2012",
         "rawType": "object",
         "type": "string"
        },
        {
         "name": "novembro 2012",
         "rawType": "object",
         "type": "string"
        },
        {
         "name": "dezembro 2012",
         "rawType": "object",
         "type": "string"
        },
        {
         "name": "janeiro 2013",
         "rawType": "object",
         "type": "string"
        },
        {
         "name": "fevereiro 2013",
         "rawType": "object",
         "type": "string"
        },
        {
         "name": "março 2013",
         "rawType": "object",
         "type": "string"
        },
        {
         "name": "abril 2013",
         "rawType": "object",
         "type": "string"
        },
        {
         "name": "maio 2013",
         "rawType": "object",
         "type": "string"
        },
        {
         "name": "junho 2013",
         "rawType": "object",
         "type": "string"
        },
        {
         "name": "julho 2013",
         "rawType": "object",
         "type": "string"
        },
        {
         "name": "agosto 2013",
         "rawType": "object",
         "type": "string"
        },
        {
         "name": "setembro 2013",
         "rawType": "object",
         "type": "string"
        },
        {
         "name": "outubro 2013",
         "rawType": "object",
         "type": "string"
        },
        {
         "name": "novembro 2013",
         "rawType": "object",
         "type": "string"
        },
        {
         "name": "dezembro 2013",
         "rawType": "object",
         "type": "string"
        },
        {
         "name": "janeiro 2014",
         "rawType": "object",
         "type": "string"
        },
        {
         "name": "fevereiro 2014",
         "rawType": "object",
         "type": "string"
        },
        {
         "name": "março 2014",
         "rawType": "object",
         "type": "string"
        },
        {
         "name": "abril 2014",
         "rawType": "object",
         "type": "string"
        },
        {
         "name": "maio 2014",
         "rawType": "object",
         "type": "string"
        },
        {
         "name": "junho 2014",
         "rawType": "object",
         "type": "string"
        },
        {
         "name": "julho 2014",
         "rawType": "object",
         "type": "string"
        },
        {
         "name": "agosto 2014",
         "rawType": "object",
         "type": "string"
        },
        {
         "name": "setembro 2014",
         "rawType": "object",
         "type": "string"
        },
        {
         "name": "outubro 2014",
         "rawType": "object",
         "type": "string"
        },
        {
         "name": "novembro 2014",
         "rawType": "object",
         "type": "string"
        },
        {
         "name": "dezembro 2014",
         "rawType": "object",
         "type": "string"
        },
        {
         "name": "janeiro 2015",
         "rawType": "object",
         "type": "string"
        },
        {
         "name": "fevereiro 2015",
         "rawType": "object",
         "type": "string"
        },
        {
         "name": "março 2015",
         "rawType": "object",
         "type": "string"
        },
        {
         "name": "abril 2015",
         "rawType": "object",
         "type": "string"
        },
        {
         "name": "maio 2015",
         "rawType": "object",
         "type": "string"
        },
        {
         "name": "junho 2015",
         "rawType": "object",
         "type": "string"
        },
        {
         "name": "julho 2015",
         "rawType": "object",
         "type": "string"
        },
        {
         "name": "agosto 2015",
         "rawType": "object",
         "type": "string"
        },
        {
         "name": "setembro 2015",
         "rawType": "object",
         "type": "string"
        },
        {
         "name": "outubro 2015",
         "rawType": "object",
         "type": "string"
        },
        {
         "name": "novembro 2015",
         "rawType": "object",
         "type": "string"
        },
        {
         "name": "dezembro 2015",
         "rawType": "object",
         "type": "string"
        },
        {
         "name": "janeiro 2016",
         "rawType": "object",
         "type": "string"
        },
        {
         "name": "fevereiro 2016",
         "rawType": "object",
         "type": "string"
        },
        {
         "name": "março 2016",
         "rawType": "object",
         "type": "string"
        },
        {
         "name": "abril 2016",
         "rawType": "object",
         "type": "string"
        },
        {
         "name": "maio 2016",
         "rawType": "object",
         "type": "string"
        },
        {
         "name": "junho 2016",
         "rawType": "object",
         "type": "string"
        },
        {
         "name": "julho 2016",
         "rawType": "object",
         "type": "string"
        },
        {
         "name": "agosto 2016",
         "rawType": "object",
         "type": "string"
        },
        {
         "name": "setembro 2016",
         "rawType": "object",
         "type": "string"
        },
        {
         "name": "outubro 2016",
         "rawType": "object",
         "type": "string"
        },
        {
         "name": "novembro 2016",
         "rawType": "object",
         "type": "string"
        },
        {
         "name": "dezembro 2016",
         "rawType": "object",
         "type": "string"
        },
        {
         "name": "janeiro 2017",
         "rawType": "object",
         "type": "string"
        },
        {
         "name": "fevereiro 2017",
         "rawType": "object",
         "type": "string"
        },
        {
         "name": "março 2017",
         "rawType": "object",
         "type": "string"
        },
        {
         "name": "abril 2017",
         "rawType": "object",
         "type": "string"
        },
        {
         "name": "maio 2017",
         "rawType": "object",
         "type": "string"
        },
        {
         "name": "junho 2017",
         "rawType": "object",
         "type": "string"
        },
        {
         "name": "julho 2017",
         "rawType": "object",
         "type": "string"
        },
        {
         "name": "agosto 2017",
         "rawType": "object",
         "type": "string"
        },
        {
         "name": "setembro 2017",
         "rawType": "object",
         "type": "string"
        },
        {
         "name": "outubro 2017",
         "rawType": "object",
         "type": "string"
        },
        {
         "name": "novembro 2017",
         "rawType": "object",
         "type": "string"
        },
        {
         "name": "dezembro 2017",
         "rawType": "object",
         "type": "string"
        },
        {
         "name": "janeiro 2018",
         "rawType": "object",
         "type": "string"
        },
        {
         "name": "fevereiro 2018",
         "rawType": "object",
         "type": "string"
        },
        {
         "name": "março 2018",
         "rawType": "object",
         "type": "string"
        },
        {
         "name": "abril 2018",
         "rawType": "object",
         "type": "string"
        },
        {
         "name": "maio 2018",
         "rawType": "object",
         "type": "string"
        },
        {
         "name": "junho 2018",
         "rawType": "object",
         "type": "string"
        },
        {
         "name": "julho 2018",
         "rawType": "object",
         "type": "string"
        },
        {
         "name": "agosto 2018",
         "rawType": "object",
         "type": "string"
        },
        {
         "name": "setembro 2018",
         "rawType": "object",
         "type": "string"
        },
        {
         "name": "outubro 2018",
         "rawType": "object",
         "type": "string"
        },
        {
         "name": "novembro 2018",
         "rawType": "object",
         "type": "string"
        },
        {
         "name": "dezembro 2018",
         "rawType": "object",
         "type": "string"
        },
        {
         "name": "janeiro 2019",
         "rawType": "object",
         "type": "string"
        },
        {
         "name": "fevereiro 2019",
         "rawType": "object",
         "type": "string"
        },
        {
         "name": "março 2019",
         "rawType": "object",
         "type": "string"
        },
        {
         "name": "abril 2019",
         "rawType": "object",
         "type": "string"
        },
        {
         "name": "maio 2019",
         "rawType": "object",
         "type": "string"
        },
        {
         "name": "junho 2019",
         "rawType": "object",
         "type": "string"
        },
        {
         "name": "julho 2019",
         "rawType": "object",
         "type": "string"
        },
        {
         "name": "agosto 2019",
         "rawType": "object",
         "type": "string"
        },
        {
         "name": "setembro 2019",
         "rawType": "object",
         "type": "string"
        },
        {
         "name": "outubro 2019",
         "rawType": "object",
         "type": "string"
        },
        {
         "name": "novembro 2019",
         "rawType": "object",
         "type": "string"
        },
        {
         "name": "dezembro 2019",
         "rawType": "object",
         "type": "string"
        },
        {
         "name": "janeiro 2020",
         "rawType": "object",
         "type": "string"
        },
        {
         "name": "fevereiro 2020",
         "rawType": "object",
         "type": "string"
        },
        {
         "name": "março 2020",
         "rawType": "object",
         "type": "string"
        },
        {
         "name": "abril 2020",
         "rawType": "object",
         "type": "string"
        },
        {
         "name": "maio 2020",
         "rawType": "object",
         "type": "string"
        },
        {
         "name": "junho 2020",
         "rawType": "object",
         "type": "string"
        },
        {
         "name": "julho 2020",
         "rawType": "object",
         "type": "string"
        },
        {
         "name": "agosto 2020",
         "rawType": "object",
         "type": "string"
        },
        {
         "name": "setembro 2020",
         "rawType": "object",
         "type": "string"
        },
        {
         "name": "outubro 2020",
         "rawType": "object",
         "type": "string"
        },
        {
         "name": "novembro 2020",
         "rawType": "object",
         "type": "string"
        },
        {
         "name": "dezembro 2020",
         "rawType": "object",
         "type": "string"
        },
        {
         "name": "janeiro 2021",
         "rawType": "object",
         "type": "string"
        },
        {
         "name": "fevereiro 2021",
         "rawType": "object",
         "type": "string"
        },
        {
         "name": "março 2021",
         "rawType": "object",
         "type": "string"
        },
        {
         "name": "abril 2021",
         "rawType": "object",
         "type": "string"
        },
        {
         "name": "maio 2021",
         "rawType": "object",
         "type": "string"
        },
        {
         "name": "junho 2021",
         "rawType": "object",
         "type": "string"
        },
        {
         "name": "julho 2021",
         "rawType": "object",
         "type": "string"
        },
        {
         "name": "agosto 2021",
         "rawType": "object",
         "type": "string"
        },
        {
         "name": "setembro 2021",
         "rawType": "object",
         "type": "string"
        },
        {
         "name": "outubro 2021",
         "rawType": "object",
         "type": "string"
        },
        {
         "name": "novembro 2021",
         "rawType": "object",
         "type": "string"
        },
        {
         "name": "dezembro 2021",
         "rawType": "object",
         "type": "string"
        },
        {
         "name": "janeiro 2022",
         "rawType": "object",
         "type": "string"
        },
        {
         "name": "fevereiro 2022",
         "rawType": "object",
         "type": "string"
        },
        {
         "name": "março 2022",
         "rawType": "object",
         "type": "string"
        },
        {
         "name": "abril 2022",
         "rawType": "object",
         "type": "string"
        },
        {
         "name": "maio 2022",
         "rawType": "object",
         "type": "string"
        },
        {
         "name": "junho 2022",
         "rawType": "object",
         "type": "string"
        },
        {
         "name": "julho 2022",
         "rawType": "object",
         "type": "string"
        },
        {
         "name": "agosto 2022",
         "rawType": "object",
         "type": "string"
        },
        {
         "name": "setembro 2022",
         "rawType": "object",
         "type": "string"
        },
        {
         "name": "outubro 2022",
         "rawType": "object",
         "type": "string"
        },
        {
         "name": "novembro 2022",
         "rawType": "object",
         "type": "string"
        },
        {
         "name": "dezembro 2022",
         "rawType": "object",
         "type": "string"
        },
        {
         "name": "janeiro 2023",
         "rawType": "object",
         "type": "string"
        },
        {
         "name": "fevereiro 2023",
         "rawType": "object",
         "type": "string"
        },
        {
         "name": "março 2023",
         "rawType": "object",
         "type": "string"
        },
        {
         "name": "abril 2023",
         "rawType": "object",
         "type": "string"
        },
        {
         "name": "maio 2023",
         "rawType": "object",
         "type": "string"
        },
        {
         "name": "junho 2023",
         "rawType": "object",
         "type": "string"
        },
        {
         "name": "julho 2023",
         "rawType": "object",
         "type": "string"
        },
        {
         "name": "agosto 2023",
         "rawType": "object",
         "type": "string"
        },
        {
         "name": "setembro 2023",
         "rawType": "object",
         "type": "string"
        },
        {
         "name": "outubro 2023",
         "rawType": "object",
         "type": "string"
        },
        {
         "name": "novembro 2023",
         "rawType": "object",
         "type": "string"
        },
        {
         "name": "dezembro 2023",
         "rawType": "object",
         "type": "string"
        },
        {
         "name": "janeiro 2024",
         "rawType": "object",
         "type": "string"
        },
        {
         "name": "fevereiro 2024",
         "rawType": "object",
         "type": "string"
        },
        {
         "name": "março 2024",
         "rawType": "object",
         "type": "string"
        },
        {
         "name": "abril 2024",
         "rawType": "object",
         "type": "string"
        },
        {
         "name": "maio 2024",
         "rawType": "object",
         "type": "string"
        },
        {
         "name": "junho 2024",
         "rawType": "object",
         "type": "string"
        },
        {
         "name": "julho 2024",
         "rawType": "object",
         "type": "string"
        },
        {
         "name": "agosto 2024",
         "rawType": "object",
         "type": "string"
        },
        {
         "name": "setembro 2024",
         "rawType": "object",
         "type": "string"
        },
        {
         "name": "outubro 2024",
         "rawType": "object",
         "type": "string"
        },
        {
         "name": "novembro 2024",
         "rawType": "object",
         "type": "string"
        },
        {
         "name": "dezembro 2024",
         "rawType": "object",
         "type": "string"
        },
        {
         "name": "janeiro 2025",
         "rawType": "object",
         "type": "string"
        },
        {
         "name": "fevereiro 2025",
         "rawType": "object",
         "type": "string"
        },
        {
         "name": "março 2025",
         "rawType": "object",
         "type": "string"
        },
        {
         "name": "abril 2025",
         "rawType": "object",
         "type": "string"
        },
        {
         "name": "maio 2025",
         "rawType": "object",
         "type": "string"
        },
        {
         "name": "junho 2025",
         "rawType": "object",
         "type": "string"
        },
        {
         "name": "julho 2025",
         "rawType": "object",
         "type": "string"
        },
        {
         "name": "agosto 2025",
         "rawType": "object",
         "type": "string"
        },
        {
         "name": "setembro 2025",
         "rawType": "object",
         "type": "string"
        },
        {
         "name": "Unnamed: 376",
         "rawType": "float64",
         "type": "float"
        },
        {
         "name": "Unnamed: 377",
         "rawType": "float64",
         "type": "float"
        }
       ],
       "ref": "c646b6f4-fe8c-474c-bdfd-310c4313377c",
       "rows": [
        [
         "0",
         "Brasil",
         "6,84",
         "1,86",
         "1,53",
         "2,62",
         "2,81",
         "1,71",
         "1,7",
         "1,02",
         "1,55",
         "2,43",
         "2,67",
         "2,26",
         "2,36",
         "0,99",
         "0,99",
         "1,41",
         "1,47",
         "1,56",
         "1,34",
         "1,03",
         "0,35",
         "1,26",
         "1,22",
         "1,19",
         "1,11",
         "0,44",
         "0,15",
         "0,3",
         "0,32",
         "0,47",
         "1,18",
         "0,5",
         "0,51",
         "0,88",
         "0,41",
         "0,54",
         "0,22",
         "-0,02",
         "0,06",
         "0,23",
         "0,17",
         "0,43",
         "0,71",
         "0,46",
         "0,34",
         "0,24",
         "0,5",
         "0,02",
         "-0,12",
         "-0,51",
         "-0,22",
         "0,02",
         "-0,12",
         "0,33",
         "0,7",
         "1,05",
         "1,1",
         "0,56",
         "0,3",
         "0,19",
         "1,09",
         "0,56",
         "0,31",
         "1,19",
         "0,95",
         "0,6",
         "0,62",
         "0,13",
         "0,22",
         "0,42",
         "0,01",
         "0,23",
         "1,61",
         "1,31",
         "0,23",
         "0,14",
         "0,32",
         "0,59",
         "0,57",
         "0,46",
         "0,38",
         "0,58",
         "0,41",
         "0,52",
         "1,33",
         "0,7",
         "0,28",
         "0,83",
         "0,71",
         "0,65",
         "0,52",
         "0,36",
         "0,6",
         "0,8",
         "0,21",
         "0,42",
         "1,19",
         "0,65",
         "0,72",
         "1,31",
         "3,02",
         "2,1",
         "2,25",
         "1,57",
         "1,23",
         "0,97",
         "0,61",
         "-0,15",
         "0,2",
         "0,34",
         "0,78",
         "0,29",
         "0,34",
         "0,52",
         "0,76",
         "0,61",
         "0,47",
         "0,37",
         "0,51",
         "0,71",
         "0,91",
         "0,69",
         "0,33",
         "0,44",
         "0,69",
         "0,86",
         "0,58",
         "0,59",
         "0,61",
         "0,87",
         "0,49",
         "-0,02",
         "0,25",
         "0,17",
         "0,35",
         "0,75",
         "0,55",
         "0,36",
         "0,59",
         "0,41",
         "0,43",
         "0,21",
         "0,1",
         "-0,21",
         "0,19",
         "0,05",
         "0,21",
         "0,33",
         "0,31",
         "0,48",
         "0,44",
         "0,44",
         "0,37",
         "0,25",
         "0,28",
         "0,28",
         "0,24",
         "0,47",
         "0,18",
         "0,3",
         "0,38",
         "0,74",
         "0,54",
         "0,49",
         "0,48",
         "0,55",
         "0,79",
         "0,74",
         "0,53",
         "0,28",
         "0,26",
         "0,45",
         "0,36",
         "0,28",
         "0,48",
         "0,55",
         "0,2",
         "0,48",
         "0,47",
         "0,36",
         "0,24",
         "0,15",
         "0,24",
         "0,28",
         "0,41",
         "0,37",
         "0,75",
         "0,78",
         "0,52",
         "0,57",
         "0,43",
         "0",
         "0,01",
         "0,04",
         "0,45",
         "0,75",
         "0,83",
         "0,63",
         "0,83",
         "0,8",
         "0,79",
         "0,77",
         "0,47",
         "0,15",
         "0,16",
         "0,37",
         "0,53",
         "0,43",
         "0,52",
         "0,5",
         "0,56",
         "0,45",
         "0,21",
         "0,64",
         "0,36",
         "0,08",
         "0,43",
         "0,41",
         "0,57",
         "0,59",
         "0,6",
         "0,79",
         "0,86",
         "0,6",
         "0,47",
         "0,55",
         "0,37",
         "0,26",
         "0,03",
         "0,24",
         "0,35",
         "0,57",
         "0,54",
         "0,92",
         "0,55",
         "0,69",
         "0,92",
         "0,67",
         "0,46",
         "0,4",
         "0,01",
         "0,25",
         "0,57",
         "0,42",
         "0,51",
         "0,78",
         "1,24",
         "1,22",
         "1,32",
         "0,71",
         "0,74",
         "0,79",
         "0,62",
         "0,22",
         "0,54",
         "0,82",
         "1,01",
         "0,96",
         "1,27",
         "0,9",
         "0,43",
         "0,61",
         "0,78",
         "0,35",
         "0,52",
         "0,44",
         "0,08",
         "0,26",
         "0,18",
         "0,3",
         "0,38",
         "0,33",
         "0,25",
         "0,14",
         "0,31",
         "-0,23",
         "0,24",
         "0,19",
         "0,16",
         "0,42",
         "0,28",
         "0,44",
         "0,29",
         "0,32",
         "0,09",
         "0,22",
         "0,4",
         "1,26",
         "0,33",
         "-0,09",
         "0,48",
         "0,45",
         "-0,21",
         "0,15",
         "0,32",
         "0,43",
         "0,75",
         "0,57",
         "0,13",
         "0,01",
         "0,19",
         "0,11",
         "-0,04",
         "0,1",
         "0,51",
         "1,15",
         "0,21",
         "0,25",
         "0,07",
         "-0,31",
         "-0,38",
         "0,26",
         "0,36",
         "0,24",
         "0,64",
         "0,86",
         "0,89",
         "1,35",
         "0,25",
         "0,86",
         "0,93",
         "0,31",
         "0,83",
         "0,53",
         "0,96",
         "0,87",
         "1,16",
         "1,25",
         "0,95",
         "0,73",
         "0,54",
         "1,01",
         "1,62",
         "1,06",
         "0,47",
         "0,67",
         "-0,68",
         "-0,36",
         "-0,29",
         "0,59",
         "0,41",
         "0,62",
         "0,53",
         "0,84",
         "0,71",
         "0,61",
         "0,23",
         "-0,08",
         "0,12",
         "0,23",
         "0,26",
         "0,24",
         "0,28",
         "0,56",
         "0,42",
         "0,83",
         "0,16",
         "0,38",
         "0,46",
         "0,21",
         "0,38",
         "-0,02",
         "0,44",
         "0,56",
         "0,39",
         "0,52",
         "0,16",
         "1,31",
         "0,56",
         "0,43",
         "0,26",
         "0,24",
         "0,26",
         "-0,11",
         "0,48",
         null,
         null
        ]
       ],
       "shape": {
        "columns": 378,
        "rows": 1
       }
      },
      "text/html": [
       "<div>\n",
       "<style scoped>\n",
       "    .dataframe tbody tr th:only-of-type {\n",
       "        vertical-align: middle;\n",
       "    }\n",
       "\n",
       "    .dataframe tbody tr th {\n",
       "        vertical-align: top;\n",
       "    }\n",
       "\n",
       "    .dataframe thead th {\n",
       "        text-align: right;\n",
       "    }\n",
       "</style>\n",
       "<table border=\"1\" class=\"dataframe\">\n",
       "  <thead>\n",
       "    <tr style=\"text-align: right;\">\n",
       "      <th></th>\n",
       "      <th>Unnamed: 0</th>\n",
       "      <th>julho 1994</th>\n",
       "      <th>agosto 1994</th>\n",
       "      <th>setembro 1994</th>\n",
       "      <th>outubro 1994</th>\n",
       "      <th>novembro 1994</th>\n",
       "      <th>dezembro 1994</th>\n",
       "      <th>janeiro 1995</th>\n",
       "      <th>fevereiro 1995</th>\n",
       "      <th>março 1995</th>\n",
       "      <th>...</th>\n",
       "      <th>fevereiro 2025</th>\n",
       "      <th>março 2025</th>\n",
       "      <th>abril 2025</th>\n",
       "      <th>maio 2025</th>\n",
       "      <th>junho 2025</th>\n",
       "      <th>julho 2025</th>\n",
       "      <th>agosto 2025</th>\n",
       "      <th>setembro 2025</th>\n",
       "      <th>Unnamed: 376</th>\n",
       "      <th>Unnamed: 377</th>\n",
       "    </tr>\n",
       "  </thead>\n",
       "  <tbody>\n",
       "    <tr>\n",
       "      <th>0</th>\n",
       "      <td>Brasil</td>\n",
       "      <td>6,84</td>\n",
       "      <td>1,86</td>\n",
       "      <td>1,53</td>\n",
       "      <td>2,62</td>\n",
       "      <td>2,81</td>\n",
       "      <td>1,71</td>\n",
       "      <td>1,7</td>\n",
       "      <td>1,02</td>\n",
       "      <td>1,55</td>\n",
       "      <td>...</td>\n",
       "      <td>1,31</td>\n",
       "      <td>0,56</td>\n",
       "      <td>0,43</td>\n",
       "      <td>0,26</td>\n",
       "      <td>0,24</td>\n",
       "      <td>0,26</td>\n",
       "      <td>-0,11</td>\n",
       "      <td>0,48</td>\n",
       "      <td>NaN</td>\n",
       "      <td>NaN</td>\n",
       "    </tr>\n",
       "  </tbody>\n",
       "</table>\n",
       "<p>1 rows × 378 columns</p>\n",
       "</div>"
      ],
      "text/plain": [
       "  Unnamed: 0 julho 1994 agosto 1994 setembro 1994 outubro 1994 novembro 1994  \\\n",
       "0     Brasil       6,84        1,86          1,53         2,62          2,81   \n",
       "\n",
       "  dezembro 1994 janeiro 1995 fevereiro 1995 março 1995  ... fevereiro 2025  \\\n",
       "0          1,71          1,7           1,02       1,55  ...           1,31   \n",
       "\n",
       "  março 2025 abril 2025 maio 2025 junho 2025 julho 2025 agosto 2025  \\\n",
       "0       0,56       0,43      0,26       0,24       0,26       -0,11   \n",
       "\n",
       "  setembro 2025 Unnamed: 376 Unnamed: 377  \n",
       "0          0,48          NaN          NaN  \n",
       "\n",
       "[1 rows x 378 columns]"
      ]
     },
     "execution_count": 82,
     "metadata": {},
     "output_type": "execute_result"
    }
   ],
   "source": [
    "df_IPCA.head()\n"
   ]
  },
  {
   "cell_type": "code",
   "execution_count": 83,
   "id": "2e753fbe",
   "metadata": {},
   "outputs": [
    {
     "data": {
      "application/vnd.microsoft.datawrangler.viewer.v0+json": {
       "columns": [
        {
         "name": "index",
         "rawType": "int64",
         "type": "integer"
        },
        {
         "name": "Data",
         "rawType": "object",
         "type": "string"
        },
        {
         "name": "À vista R$",
         "rawType": "object",
         "type": "string"
        },
        {
         "name": "À vista US$",
         "rawType": "object",
         "type": "string"
        }
       ],
       "ref": "e92f7b1f-393d-41d2-949b-fccafc0dc369",
       "rows": [
        [
         "0",
         "13/03/2006",
         "27,66",
         "12,96"
        ],
        [
         "1",
         "14/03/2006",
         "27,45",
         "12,91"
        ],
        [
         "2",
         "15/03/2006",
         "27,58",
         "13"
        ],
        [
         "3",
         "16/03/2006",
         "26,97",
         "12,78"
        ],
        [
         "4",
         "17/03/2006",
         "26,96",
         "12,68"
        ]
       ],
       "shape": {
        "columns": 3,
        "rows": 5
       }
      },
      "text/html": [
       "<div>\n",
       "<style scoped>\n",
       "    .dataframe tbody tr th:only-of-type {\n",
       "        vertical-align: middle;\n",
       "    }\n",
       "\n",
       "    .dataframe tbody tr th {\n",
       "        vertical-align: top;\n",
       "    }\n",
       "\n",
       "    .dataframe thead th {\n",
       "        text-align: right;\n",
       "    }\n",
       "</style>\n",
       "<table border=\"1\" class=\"dataframe\">\n",
       "  <thead>\n",
       "    <tr style=\"text-align: right;\">\n",
       "      <th></th>\n",
       "      <th>Data</th>\n",
       "      <th>À vista R$</th>\n",
       "      <th>À vista US$</th>\n",
       "    </tr>\n",
       "  </thead>\n",
       "  <tbody>\n",
       "    <tr>\n",
       "      <th>0</th>\n",
       "      <td>13/03/2006</td>\n",
       "      <td>27,66</td>\n",
       "      <td>12,96</td>\n",
       "    </tr>\n",
       "    <tr>\n",
       "      <th>1</th>\n",
       "      <td>14/03/2006</td>\n",
       "      <td>27,45</td>\n",
       "      <td>12,91</td>\n",
       "    </tr>\n",
       "    <tr>\n",
       "      <th>2</th>\n",
       "      <td>15/03/2006</td>\n",
       "      <td>27,58</td>\n",
       "      <td>13</td>\n",
       "    </tr>\n",
       "    <tr>\n",
       "      <th>3</th>\n",
       "      <td>16/03/2006</td>\n",
       "      <td>26,97</td>\n",
       "      <td>12,78</td>\n",
       "    </tr>\n",
       "    <tr>\n",
       "      <th>4</th>\n",
       "      <td>17/03/2006</td>\n",
       "      <td>26,96</td>\n",
       "      <td>12,68</td>\n",
       "    </tr>\n",
       "  </tbody>\n",
       "</table>\n",
       "</div>"
      ],
      "text/plain": [
       "         Data À vista R$ À vista US$\n",
       "0  13/03/2006      27,66       12,96\n",
       "1  14/03/2006      27,45       12,91\n",
       "2  15/03/2006      27,58          13\n",
       "3  16/03/2006      26,97       12,78\n",
       "4  17/03/2006      26,96       12,68"
      ]
     },
     "execution_count": 83,
     "metadata": {},
     "output_type": "execute_result"
    }
   ],
   "source": [
    "df_CEPEA.head()\n"
   ]
  },
  {
   "cell_type": "code",
   "execution_count": 84,
   "id": "687f6f60",
   "metadata": {},
   "outputs": [
    {
     "data": {
      "application/vnd.microsoft.datawrangler.viewer.v0+json": {
       "columns": [
        {
         "name": "index",
         "rawType": "int64",
         "type": "integer"
        },
        {
         "name": "orig_index",
         "rawType": "object",
         "type": "string"
        },
        {
         "name": "Brasil",
         "rawType": "object",
         "type": "unknown"
        }
       ],
       "ref": "4fc8f7bc-b0ee-460e-981e-db7c0380cb63",
       "rows": [
        [
         "0",
         "Unnamed: 0",
         "Brasil"
        ],
        [
         "1",
         "julho 1994",
         "6,84"
        ],
        [
         "2",
         "agosto 1994",
         "1,86"
        ],
        [
         "3",
         "setembro 1994",
         "1,53"
        ],
        [
         "4",
         "outubro 1994",
         "2,62"
        ],
        [
         "5",
         "novembro 1994",
         "2,81"
        ],
        [
         "6",
         "dezembro 1994",
         "1,71"
        ],
        [
         "7",
         "janeiro 1995",
         "1,7"
        ],
        [
         "8",
         "fevereiro 1995",
         "1,02"
        ],
        [
         "9",
         "março 1995",
         "1,55"
        ],
        [
         "10",
         "abril 1995",
         "2,43"
        ],
        [
         "11",
         "maio 1995",
         "2,67"
        ],
        [
         "12",
         "junho 1995",
         "2,26"
        ],
        [
         "13",
         "julho 1995",
         "2,36"
        ],
        [
         "14",
         "agosto 1995",
         "0,99"
        ],
        [
         "15",
         "setembro 1995",
         "0,99"
        ],
        [
         "16",
         "outubro 1995",
         "1,41"
        ],
        [
         "17",
         "novembro 1995",
         "1,47"
        ],
        [
         "18",
         "dezembro 1995",
         "1,56"
        ],
        [
         "19",
         "janeiro 1996",
         "1,34"
        ],
        [
         "20",
         "fevereiro 1996",
         "1,03"
        ],
        [
         "21",
         "março 1996",
         "0,35"
        ],
        [
         "22",
         "abril 1996",
         "1,26"
        ],
        [
         "23",
         "maio 1996",
         "1,22"
        ],
        [
         "24",
         "junho 1996",
         "1,19"
        ],
        [
         "25",
         "julho 1996",
         "1,11"
        ],
        [
         "26",
         "agosto 1996",
         "0,44"
        ],
        [
         "27",
         "setembro 1996",
         "0,15"
        ],
        [
         "28",
         "outubro 1996",
         "0,3"
        ],
        [
         "29",
         "novembro 1996",
         "0,32"
        ],
        [
         "30",
         "dezembro 1996",
         "0,47"
        ],
        [
         "31",
         "janeiro 1997",
         "1,18"
        ],
        [
         "32",
         "fevereiro 1997",
         "0,5"
        ],
        [
         "33",
         "março 1997",
         "0,51"
        ],
        [
         "34",
         "abril 1997",
         "0,88"
        ],
        [
         "35",
         "maio 1997",
         "0,41"
        ],
        [
         "36",
         "junho 1997",
         "0,54"
        ],
        [
         "37",
         "julho 1997",
         "0,22"
        ],
        [
         "38",
         "agosto 1997",
         "-0,02"
        ],
        [
         "39",
         "setembro 1997",
         "0,06"
        ],
        [
         "40",
         "outubro 1997",
         "0,23"
        ],
        [
         "41",
         "novembro 1997",
         "0,17"
        ],
        [
         "42",
         "dezembro 1997",
         "0,43"
        ],
        [
         "43",
         "janeiro 1998",
         "0,71"
        ],
        [
         "44",
         "fevereiro 1998",
         "0,46"
        ],
        [
         "45",
         "março 1998",
         "0,34"
        ],
        [
         "46",
         "abril 1998",
         "0,24"
        ],
        [
         "47",
         "maio 1998",
         "0,5"
        ],
        [
         "48",
         "junho 1998",
         "0,02"
        ],
        [
         "49",
         "julho 1998",
         "-0,12"
        ]
       ],
       "shape": {
        "columns": 2,
        "rows": 378
       }
      },
      "text/html": [
       "<div>\n",
       "<style scoped>\n",
       "    .dataframe tbody tr th:only-of-type {\n",
       "        vertical-align: middle;\n",
       "    }\n",
       "\n",
       "    .dataframe tbody tr th {\n",
       "        vertical-align: top;\n",
       "    }\n",
       "\n",
       "    .dataframe thead th {\n",
       "        text-align: right;\n",
       "    }\n",
       "</style>\n",
       "<table border=\"1\" class=\"dataframe\">\n",
       "  <thead>\n",
       "    <tr style=\"text-align: right;\">\n",
       "      <th>Unnamed: 0</th>\n",
       "      <th>orig_index</th>\n",
       "      <th>Brasil</th>\n",
       "    </tr>\n",
       "  </thead>\n",
       "  <tbody>\n",
       "    <tr>\n",
       "      <th>0</th>\n",
       "      <td>Unnamed: 0</td>\n",
       "      <td>Brasil</td>\n",
       "    </tr>\n",
       "    <tr>\n",
       "      <th>1</th>\n",
       "      <td>julho 1994</td>\n",
       "      <td>6,84</td>\n",
       "    </tr>\n",
       "    <tr>\n",
       "      <th>2</th>\n",
       "      <td>agosto 1994</td>\n",
       "      <td>1,86</td>\n",
       "    </tr>\n",
       "    <tr>\n",
       "      <th>3</th>\n",
       "      <td>setembro 1994</td>\n",
       "      <td>1,53</td>\n",
       "    </tr>\n",
       "    <tr>\n",
       "      <th>4</th>\n",
       "      <td>outubro 1994</td>\n",
       "      <td>2,62</td>\n",
       "    </tr>\n",
       "    <tr>\n",
       "      <th>...</th>\n",
       "      <td>...</td>\n",
       "      <td>...</td>\n",
       "    </tr>\n",
       "    <tr>\n",
       "      <th>373</th>\n",
       "      <td>julho 2025</td>\n",
       "      <td>0,26</td>\n",
       "    </tr>\n",
       "    <tr>\n",
       "      <th>374</th>\n",
       "      <td>agosto 2025</td>\n",
       "      <td>-0,11</td>\n",
       "    </tr>\n",
       "    <tr>\n",
       "      <th>375</th>\n",
       "      <td>setembro 2025</td>\n",
       "      <td>0,48</td>\n",
       "    </tr>\n",
       "    <tr>\n",
       "      <th>376</th>\n",
       "      <td>Unnamed: 376</td>\n",
       "      <td>NaN</td>\n",
       "    </tr>\n",
       "    <tr>\n",
       "      <th>377</th>\n",
       "      <td>Unnamed: 377</td>\n",
       "      <td>NaN</td>\n",
       "    </tr>\n",
       "  </tbody>\n",
       "</table>\n",
       "<p>378 rows × 2 columns</p>\n",
       "</div>"
      ],
      "text/plain": [
       "Unnamed: 0     orig_index  Brasil\n",
       "0              Unnamed: 0  Brasil\n",
       "1              julho 1994    6,84\n",
       "2             agosto 1994    1,86\n",
       "3           setembro 1994    1,53\n",
       "4            outubro 1994    2,62\n",
       "..                    ...     ...\n",
       "373            julho 2025    0,26\n",
       "374           agosto 2025   -0,11\n",
       "375         setembro 2025    0,48\n",
       "376          Unnamed: 376     NaN\n",
       "377          Unnamed: 377     NaN\n",
       "\n",
       "[378 rows x 2 columns]"
      ]
     },
     "execution_count": 84,
     "metadata": {},
     "output_type": "execute_result"
    }
   ],
   "source": [
    "df_IPCA = df_IPCA.transpose()\n",
    "#linha como variavel\n",
    "df_IPCA.columns = df_IPCA.iloc[0]\n",
    "df_IPCA = df_IPCA.reset_index().rename(columns={'index':'orig_index'})\n",
    "df_IPCA"
   ]
  },
  {
   "cell_type": "code",
   "execution_count": 85,
   "id": "7ef7f236",
   "metadata": {},
   "outputs": [
    {
     "data": {
      "application/vnd.microsoft.datawrangler.viewer.v0+json": {
       "columns": [
        {
         "name": "index",
         "rawType": "int64",
         "type": "integer"
        },
        {
         "name": "orig_index",
         "rawType": "object",
         "type": "string"
        },
        {
         "name": "Brasil",
         "rawType": "float64",
         "type": "float"
        }
       ],
       "ref": "bb278e94-2d3d-4771-a724-c4c7fca93f54",
       "rows": [
        [
         "0",
         "07/1994",
         "6.84"
        ],
        [
         "1",
         "08/1994",
         "1.86"
        ],
        [
         "2",
         "09/1994",
         "1.53"
        ],
        [
         "3",
         "10/1994",
         "2.62"
        ],
        [
         "4",
         "11/1994",
         "2.81"
        ]
       ],
       "shape": {
        "columns": 2,
        "rows": 5
       }
      },
      "text/html": [
       "<div>\n",
       "<style scoped>\n",
       "    .dataframe tbody tr th:only-of-type {\n",
       "        vertical-align: middle;\n",
       "    }\n",
       "\n",
       "    .dataframe tbody tr th {\n",
       "        vertical-align: top;\n",
       "    }\n",
       "\n",
       "    .dataframe thead th {\n",
       "        text-align: right;\n",
       "    }\n",
       "</style>\n",
       "<table border=\"1\" class=\"dataframe\">\n",
       "  <thead>\n",
       "    <tr style=\"text-align: right;\">\n",
       "      <th>Unnamed: 0</th>\n",
       "      <th>orig_index</th>\n",
       "      <th>Brasil</th>\n",
       "    </tr>\n",
       "  </thead>\n",
       "  <tbody>\n",
       "    <tr>\n",
       "      <th>0</th>\n",
       "      <td>07/1994</td>\n",
       "      <td>6.84</td>\n",
       "    </tr>\n",
       "    <tr>\n",
       "      <th>1</th>\n",
       "      <td>08/1994</td>\n",
       "      <td>1.86</td>\n",
       "    </tr>\n",
       "    <tr>\n",
       "      <th>2</th>\n",
       "      <td>09/1994</td>\n",
       "      <td>1.53</td>\n",
       "    </tr>\n",
       "    <tr>\n",
       "      <th>3</th>\n",
       "      <td>10/1994</td>\n",
       "      <td>2.62</td>\n",
       "    </tr>\n",
       "    <tr>\n",
       "      <th>4</th>\n",
       "      <td>11/1994</td>\n",
       "      <td>2.81</td>\n",
       "    </tr>\n",
       "  </tbody>\n",
       "</table>\n",
       "</div>"
      ],
      "text/plain": [
       "Unnamed: 0 orig_index  Brasil\n",
       "0             07/1994    6.84\n",
       "1             08/1994    1.86\n",
       "2             09/1994    1.53\n",
       "3             10/1994    2.62\n",
       "4             11/1994    2.81"
      ]
     },
     "execution_count": 85,
     "metadata": {},
     "output_type": "execute_result"
    }
   ],
   "source": [
    "# Ajuste do formato da data no DataFrame do IPCA\n",
    "muda_formato_data = {\n",
    "    'janeiro': '01', 'fevereiro': '02', 'março': '03', \n",
    "    'abril': '04', 'maio': '05', 'junho': '06',\n",
    "    'julho': '07', 'agosto': '08', 'setembro': '09', \n",
    "    'outubro': '10', 'novembro': '11', 'dezembro': '12'\n",
    "}\n",
    "\n",
    "regex = r'(\\w+)(?:\\s+de)?\\s+(\\d{4})'  # Regex para capturar \"mês de ano\" ou \"mês ano\"\n",
    "\n",
    "coluna = df_IPCA.columns[0]\n",
    "\n",
    "df_IPCA[coluna] = df_IPCA[coluna].astype(str).str.lower().str.replace(\n",
    "    regex,\n",
    "    lambda m: f\"{muda_formato_data[m.group(1)]}/{m.group(2)}\",\n",
    "    regex=True\n",
    ")\n",
    "# remover a primeira linha que virou header\n",
    "df_IPCA = df_IPCA.drop(0).reset_index(drop=True)\n",
    "#substitui virgula por ponto e converte para numerico\n",
    "for col in df_IPCA.columns[1:]:\n",
    "    df_IPCA[col] = pd.to_numeric(df_IPCA[col].str.replace(',', '.'), errors='coerce')\n",
    "df_IPCA.head()\n",
    "\n"
   ]
  },
  {
   "cell_type": "code",
   "execution_count": 86,
   "id": "55ceaa80",
   "metadata": {},
   "outputs": [
    {
     "data": {
      "application/vnd.microsoft.datawrangler.viewer.v0+json": {
       "columns": [
        {
         "name": "index",
         "rawType": "int64",
         "type": "integer"
        },
        {
         "name": "Data",
         "rawType": "object",
         "type": "string"
        },
        {
         "name": "À vista R$",
         "rawType": "float64",
         "type": "float"
        },
        {
         "name": "À vista US$",
         "rawType": "float64",
         "type": "float"
        }
       ],
       "ref": "bbd41394-131b-4153-a383-bf41762a1e84",
       "rows": [
        [
         "0",
         "13/03/2006",
         "27.66",
         "12.96"
        ],
        [
         "1",
         "14/03/2006",
         "27.45",
         "12.91"
        ],
        [
         "2",
         "15/03/2006",
         "27.58",
         "13.0"
        ],
        [
         "3",
         "16/03/2006",
         "26.97",
         "12.78"
        ],
        [
         "4",
         "17/03/2006",
         "26.96",
         "12.68"
        ]
       ],
       "shape": {
        "columns": 3,
        "rows": 5
       }
      },
      "text/html": [
       "<div>\n",
       "<style scoped>\n",
       "    .dataframe tbody tr th:only-of-type {\n",
       "        vertical-align: middle;\n",
       "    }\n",
       "\n",
       "    .dataframe tbody tr th {\n",
       "        vertical-align: top;\n",
       "    }\n",
       "\n",
       "    .dataframe thead th {\n",
       "        text-align: right;\n",
       "    }\n",
       "</style>\n",
       "<table border=\"1\" class=\"dataframe\">\n",
       "  <thead>\n",
       "    <tr style=\"text-align: right;\">\n",
       "      <th></th>\n",
       "      <th>Data</th>\n",
       "      <th>À vista R$</th>\n",
       "      <th>À vista US$</th>\n",
       "    </tr>\n",
       "  </thead>\n",
       "  <tbody>\n",
       "    <tr>\n",
       "      <th>0</th>\n",
       "      <td>13/03/2006</td>\n",
       "      <td>27.66</td>\n",
       "      <td>12.96</td>\n",
       "    </tr>\n",
       "    <tr>\n",
       "      <th>1</th>\n",
       "      <td>14/03/2006</td>\n",
       "      <td>27.45</td>\n",
       "      <td>12.91</td>\n",
       "    </tr>\n",
       "    <tr>\n",
       "      <th>2</th>\n",
       "      <td>15/03/2006</td>\n",
       "      <td>27.58</td>\n",
       "      <td>13.00</td>\n",
       "    </tr>\n",
       "    <tr>\n",
       "      <th>3</th>\n",
       "      <td>16/03/2006</td>\n",
       "      <td>26.97</td>\n",
       "      <td>12.78</td>\n",
       "    </tr>\n",
       "    <tr>\n",
       "      <th>4</th>\n",
       "      <td>17/03/2006</td>\n",
       "      <td>26.96</td>\n",
       "      <td>12.68</td>\n",
       "    </tr>\n",
       "  </tbody>\n",
       "</table>\n",
       "</div>"
      ],
      "text/plain": [
       "         Data  À vista R$  À vista US$\n",
       "0  13/03/2006       27.66        12.96\n",
       "1  14/03/2006       27.45        12.91\n",
       "2  15/03/2006       27.58        13.00\n",
       "3  16/03/2006       26.97        12.78\n",
       "4  17/03/2006       26.96        12.68"
      ]
     },
     "execution_count": 86,
     "metadata": {},
     "output_type": "execute_result"
    }
   ],
   "source": [
    "\"\"\" # Corrige formatação e converte as duas colunas para número\n",
    "for col in ['À vista R$', 'À vista US$']:\n",
    "    if col in df_CEPEA.columns:\n",
    "        df_CEPEA[col] = (\n",
    "            df_CEPEA[col]\n",
    "            .astype(str)\n",
    "            .str.replace('.', '', regex=False)\n",
    "            .str.replace(',', '.', regex=False)\n",
    "            .astype(float)\n",
    "        )\n",
    "df_CEPEA['Data'] = pd.to_datetime(df_CEPEA['Data'], errors='coerce', dayfirst=True)\n",
    "df_CEPEA['AnoMes'] = df_CEPEA['Data'].dt.strftime('%m/%Y')\n",
    "\n",
    "# Calcula médias mensais em reais e dólares\n",
    "colunas_validas = [c for c in ['À vista R$', 'À vista US$'] if c in df_CEPEA.columns]\n",
    "df_soja_mensal = df_CEPEA.groupby('AnoMes')[colunas_validas].mean().reset_index()\n",
    "\n",
    "df_soja_mensal.head()\n",
    " \"\"\"\n",
    "# troca virgula por ponto e converte para numerico\n",
    "for col in ['À vista R$', 'À vista US$']:\n",
    "    df_CEPEA[col] = pd.to_numeric(df_CEPEA[col].astype(str).str.replace(',', '.'), errors='coerce')\n",
    "df_soja_mensal = df_CEPEA.copy()\n",
    "df_soja_mensal.head()"
   ]
  },
  {
   "cell_type": "code",
   "execution_count": 89,
   "id": "1ba83ee8",
   "metadata": {},
   "outputs": [
    {
     "ename": "KeyError",
     "evalue": "'join'",
     "output_type": "error",
     "traceback": [
      "\u001b[1;31m---------------------------------------------------------------------------\u001b[0m",
      "\u001b[1;31mKeyError\u001b[0m                                  Traceback (most recent call last)",
      "Cell \u001b[1;32mIn[89], line 2\u001b[0m\n\u001b[0;32m      1\u001b[0m \u001b[38;5;66;03m# merge dos dois dataframes pelo campo AnoMes\u001b[39;00m\n\u001b[1;32m----> 2\u001b[0m df_merged \u001b[38;5;241m=\u001b[39m pd\u001b[38;5;241m.\u001b[39mmerge(df_soja_mensal, df_IPCA, left_on\u001b[38;5;241m=\u001b[39m\u001b[38;5;124m'\u001b[39m\u001b[38;5;124mData\u001b[39m\u001b[38;5;124m'\u001b[39m, right_on\u001b[38;5;241m=\u001b[39m\u001b[38;5;124m'\u001b[39m\u001b[38;5;124morig_index\u001b[39m\u001b[38;5;124m'\u001b[39m, how\u001b[38;5;241m=\u001b[39m\u001b[38;5;124m'\u001b[39m\u001b[38;5;124mjoin\u001b[39m\u001b[38;5;124m'\u001b[39m)\n\u001b[0;32m      3\u001b[0m df_merged \u001b[38;5;241m=\u001b[39m df_merged\u001b[38;5;241m.\u001b[39mdrop(columns\u001b[38;5;241m=\u001b[39m[\u001b[38;5;124m'\u001b[39m\u001b[38;5;124morig_index\u001b[39m\u001b[38;5;124m'\u001b[39m])\n\u001b[0;32m      4\u001b[0m df_merged \u001b[38;5;241m=\u001b[39m df_merged\u001b[38;5;241m.\u001b[39mrename(columns\u001b[38;5;241m=\u001b[39m{\u001b[38;5;124m'\u001b[39m\u001b[38;5;124mÀ vista R$\u001b[39m\u001b[38;5;124m'\u001b[39m: \u001b[38;5;124m'\u001b[39m\u001b[38;5;124mPreco_Soja_real\u001b[39m\u001b[38;5;124m'\u001b[39m,\n\u001b[0;32m      5\u001b[0m                                       \u001b[38;5;124m'\u001b[39m\u001b[38;5;124mÀ vista US$\u001b[39m\u001b[38;5;124m'\u001b[39m: \u001b[38;5;124m'\u001b[39m\u001b[38;5;124mPreco_Soja_Dolar\u001b[39m\u001b[38;5;124m'\u001b[39m, \n\u001b[0;32m      6\u001b[0m                                       \u001b[38;5;124m'\u001b[39m\u001b[38;5;124mBrasil\u001b[39m\u001b[38;5;124m'\u001b[39m: \u001b[38;5;124m'\u001b[39m\u001b[38;5;124mIPCA_Mensal_prc\u001b[39m\u001b[38;5;124m'\u001b[39m})\n",
      "File \u001b[1;32md:\\anaconda3\\Lib\\site-packages\\pandas\\core\\reshape\\merge.py:183\u001b[0m, in \u001b[0;36mmerge\u001b[1;34m(left, right, how, on, left_on, right_on, left_index, right_index, sort, suffixes, copy, indicator, validate)\u001b[0m\n\u001b[0;32m    168\u001b[0m \u001b[38;5;28;01melse\u001b[39;00m:\n\u001b[0;32m    169\u001b[0m     op \u001b[38;5;241m=\u001b[39m _MergeOperation(\n\u001b[0;32m    170\u001b[0m         left_df,\n\u001b[0;32m    171\u001b[0m         right_df,\n\u001b[1;32m   (...)\u001b[0m\n\u001b[0;32m    181\u001b[0m         validate\u001b[38;5;241m=\u001b[39mvalidate,\n\u001b[0;32m    182\u001b[0m     )\n\u001b[1;32m--> 183\u001b[0m     \u001b[38;5;28;01mreturn\u001b[39;00m op\u001b[38;5;241m.\u001b[39mget_result(copy\u001b[38;5;241m=\u001b[39mcopy)\n",
      "File \u001b[1;32md:\\anaconda3\\Lib\\site-packages\\pandas\\core\\reshape\\merge.py:883\u001b[0m, in \u001b[0;36m_MergeOperation.get_result\u001b[1;34m(self, copy)\u001b[0m\n\u001b[0;32m    880\u001b[0m \u001b[38;5;28;01mif\u001b[39;00m \u001b[38;5;28mself\u001b[39m\u001b[38;5;241m.\u001b[39mindicator:\n\u001b[0;32m    881\u001b[0m     \u001b[38;5;28mself\u001b[39m\u001b[38;5;241m.\u001b[39mleft, \u001b[38;5;28mself\u001b[39m\u001b[38;5;241m.\u001b[39mright \u001b[38;5;241m=\u001b[39m \u001b[38;5;28mself\u001b[39m\u001b[38;5;241m.\u001b[39m_indicator_pre_merge(\u001b[38;5;28mself\u001b[39m\u001b[38;5;241m.\u001b[39mleft, \u001b[38;5;28mself\u001b[39m\u001b[38;5;241m.\u001b[39mright)\n\u001b[1;32m--> 883\u001b[0m join_index, left_indexer, right_indexer \u001b[38;5;241m=\u001b[39m \u001b[38;5;28mself\u001b[39m\u001b[38;5;241m.\u001b[39m_get_join_info()\n\u001b[0;32m    885\u001b[0m result \u001b[38;5;241m=\u001b[39m \u001b[38;5;28mself\u001b[39m\u001b[38;5;241m.\u001b[39m_reindex_and_concat(\n\u001b[0;32m    886\u001b[0m     join_index, left_indexer, right_indexer, copy\u001b[38;5;241m=\u001b[39mcopy\n\u001b[0;32m    887\u001b[0m )\n\u001b[0;32m    888\u001b[0m result \u001b[38;5;241m=\u001b[39m result\u001b[38;5;241m.\u001b[39m__finalize__(\u001b[38;5;28mself\u001b[39m, method\u001b[38;5;241m=\u001b[39m\u001b[38;5;28mself\u001b[39m\u001b[38;5;241m.\u001b[39m_merge_type)\n",
      "File \u001b[1;32md:\\anaconda3\\Lib\\site-packages\\pandas\\core\\reshape\\merge.py:1133\u001b[0m, in \u001b[0;36m_MergeOperation._get_join_info\u001b[1;34m(self)\u001b[0m\n\u001b[0;32m   1129\u001b[0m     join_index, right_indexer, left_indexer \u001b[38;5;241m=\u001b[39m _left_join_on_index(\n\u001b[0;32m   1130\u001b[0m         right_ax, left_ax, \u001b[38;5;28mself\u001b[39m\u001b[38;5;241m.\u001b[39mright_join_keys, sort\u001b[38;5;241m=\u001b[39m\u001b[38;5;28mself\u001b[39m\u001b[38;5;241m.\u001b[39msort\n\u001b[0;32m   1131\u001b[0m     )\n\u001b[0;32m   1132\u001b[0m \u001b[38;5;28;01melse\u001b[39;00m:\n\u001b[1;32m-> 1133\u001b[0m     (left_indexer, right_indexer) \u001b[38;5;241m=\u001b[39m \u001b[38;5;28mself\u001b[39m\u001b[38;5;241m.\u001b[39m_get_join_indexers()\n\u001b[0;32m   1135\u001b[0m     \u001b[38;5;28;01mif\u001b[39;00m \u001b[38;5;28mself\u001b[39m\u001b[38;5;241m.\u001b[39mright_index:\n\u001b[0;32m   1136\u001b[0m         \u001b[38;5;28;01mif\u001b[39;00m \u001b[38;5;28mlen\u001b[39m(\u001b[38;5;28mself\u001b[39m\u001b[38;5;241m.\u001b[39mleft) \u001b[38;5;241m>\u001b[39m \u001b[38;5;241m0\u001b[39m:\n",
      "File \u001b[1;32md:\\anaconda3\\Lib\\site-packages\\pandas\\core\\reshape\\merge.py:1105\u001b[0m, in \u001b[0;36m_MergeOperation._get_join_indexers\u001b[1;34m(self)\u001b[0m\n\u001b[0;32m   1103\u001b[0m \u001b[38;5;28;01mdef\u001b[39;00m \u001b[38;5;21m_get_join_indexers\u001b[39m(\u001b[38;5;28mself\u001b[39m) \u001b[38;5;241m-\u001b[39m\u001b[38;5;241m>\u001b[39m \u001b[38;5;28mtuple\u001b[39m[npt\u001b[38;5;241m.\u001b[39mNDArray[np\u001b[38;5;241m.\u001b[39mintp], npt\u001b[38;5;241m.\u001b[39mNDArray[np\u001b[38;5;241m.\u001b[39mintp]]:\n\u001b[0;32m   1104\u001b[0m \u001b[38;5;250m    \u001b[39m\u001b[38;5;124;03m\"\"\"return the join indexers\"\"\"\u001b[39;00m\n\u001b[1;32m-> 1105\u001b[0m     \u001b[38;5;28;01mreturn\u001b[39;00m get_join_indexers(\n\u001b[0;32m   1106\u001b[0m         \u001b[38;5;28mself\u001b[39m\u001b[38;5;241m.\u001b[39mleft_join_keys, \u001b[38;5;28mself\u001b[39m\u001b[38;5;241m.\u001b[39mright_join_keys, sort\u001b[38;5;241m=\u001b[39m\u001b[38;5;28mself\u001b[39m\u001b[38;5;241m.\u001b[39msort, how\u001b[38;5;241m=\u001b[39m\u001b[38;5;28mself\u001b[39m\u001b[38;5;241m.\u001b[39mhow\n\u001b[0;32m   1107\u001b[0m     )\n",
      "File \u001b[1;32md:\\anaconda3\\Lib\\site-packages\\pandas\\core\\reshape\\merge.py:1718\u001b[0m, in \u001b[0;36mget_join_indexers\u001b[1;34m(left_keys, right_keys, sort, how)\u001b[0m\n\u001b[0;32m   1716\u001b[0m \u001b[38;5;28;01mif\u001b[39;00m how \u001b[38;5;129;01min\u001b[39;00m (\u001b[38;5;124m\"\u001b[39m\u001b[38;5;124mleft\u001b[39m\u001b[38;5;124m\"\u001b[39m, \u001b[38;5;124m\"\u001b[39m\u001b[38;5;124mright\u001b[39m\u001b[38;5;124m\"\u001b[39m):\n\u001b[0;32m   1717\u001b[0m     kwargs[\u001b[38;5;124m\"\u001b[39m\u001b[38;5;124msort\u001b[39m\u001b[38;5;124m\"\u001b[39m] \u001b[38;5;241m=\u001b[39m sort\n\u001b[1;32m-> 1718\u001b[0m join_func \u001b[38;5;241m=\u001b[39m {\n\u001b[0;32m   1719\u001b[0m     \u001b[38;5;124m\"\u001b[39m\u001b[38;5;124minner\u001b[39m\u001b[38;5;124m\"\u001b[39m: libjoin\u001b[38;5;241m.\u001b[39minner_join,\n\u001b[0;32m   1720\u001b[0m     \u001b[38;5;124m\"\u001b[39m\u001b[38;5;124mleft\u001b[39m\u001b[38;5;124m\"\u001b[39m: libjoin\u001b[38;5;241m.\u001b[39mleft_outer_join,\n\u001b[0;32m   1721\u001b[0m     \u001b[38;5;124m\"\u001b[39m\u001b[38;5;124mright\u001b[39m\u001b[38;5;124m\"\u001b[39m: \u001b[38;5;28;01mlambda\u001b[39;00m x, y, count, \u001b[38;5;241m*\u001b[39m\u001b[38;5;241m*\u001b[39mkwargs: libjoin\u001b[38;5;241m.\u001b[39mleft_outer_join(\n\u001b[0;32m   1722\u001b[0m         y, x, count, \u001b[38;5;241m*\u001b[39m\u001b[38;5;241m*\u001b[39mkwargs\n\u001b[0;32m   1723\u001b[0m     )[::\u001b[38;5;241m-\u001b[39m\u001b[38;5;241m1\u001b[39m],\n\u001b[0;32m   1724\u001b[0m     \u001b[38;5;124m\"\u001b[39m\u001b[38;5;124mouter\u001b[39m\u001b[38;5;124m\"\u001b[39m: libjoin\u001b[38;5;241m.\u001b[39mfull_outer_join,\n\u001b[0;32m   1725\u001b[0m }[how]\n\u001b[0;32m   1727\u001b[0m \u001b[38;5;66;03m# error: Cannot call function of unknown type\u001b[39;00m\n\u001b[0;32m   1728\u001b[0m \u001b[38;5;28;01mreturn\u001b[39;00m join_func(lkey, rkey, count, \u001b[38;5;241m*\u001b[39m\u001b[38;5;241m*\u001b[39mkwargs)\n",
      "\u001b[1;31mKeyError\u001b[0m: 'join'"
     ]
    }
   ],
   "source": [
    "# merge dos dois dataframes pelo campo AnoMes\n",
    "df_merged = pd.merge(df_soja_mensal, df_IPCA, left_on='Data', right_on='orig_index', how='join')\n",
    "df_merged = df_merged.drop(columns=['orig_index'])\n",
    "df_merged = df_merged.rename(columns={'À vista R$': 'Preco_Soja_real',\n",
    "                                      'À vista US$': 'Preco_Soja_Dolar', \n",
    "                                      'Brasil': 'IPCA_Mensal_prc'})\n",
    "df_merged.head()"
   ]
  },
  {
   "cell_type": "markdown",
   "id": "c6773589",
   "metadata": {},
   "source": [
    "Dados tratados, agora serão descritos e observados"
   ]
  },
  {
   "cell_type": "code",
   "execution_count": null,
   "id": "3486a133",
   "metadata": {},
   "outputs": [
    {
     "name": "stdout",
     "output_type": "stream",
     "text": [
      "<class 'pandas.core.frame.DataFrame'>\n",
      "RangeIndex: 235 entries, 0 to 234\n",
      "Data columns (total 4 columns):\n",
      " #   Column            Non-Null Count  Dtype  \n",
      "---  ------            --------------  -----  \n",
      " 0   AnoMes            235 non-null    object \n",
      " 1   Preco_Soja_real   235 non-null    float64\n",
      " 2   Preco_Soja_Dolar  235 non-null    float64\n",
      " 3   IPCA_Mensal_prc   234 non-null    float64\n",
      "dtypes: float64(3), object(1)\n",
      "memory usage: 7.5+ KB\n"
     ]
    }
   ],
   "source": [
    "df_merged.info()"
   ]
  },
  {
   "cell_type": "code",
   "execution_count": null,
   "id": "53f77d9e",
   "metadata": {},
   "outputs": [
    {
     "data": {
      "application/vnd.microsoft.datawrangler.viewer.v0+json": {
       "columns": [
        {
         "name": "index",
         "rawType": "object",
         "type": "string"
        },
        {
         "name": "Preco_Soja_real",
         "rawType": "float64",
         "type": "float"
        },
        {
         "name": "Preco_Soja_Dolar",
         "rawType": "float64",
         "type": "float"
        },
        {
         "name": "IPCA_Mensal_prc",
         "rawType": "float64",
         "type": "float"
        }
       ],
       "ref": "9d003b21-15c2-4711-8d24-8e70e9775a60",
       "rows": [
        [
         "count",
         "235.0",
         "235.0",
         "234.0"
        ],
        [
         "mean",
         "87.43927634065683",
         "25.886738487115664",
         "0.4526923076923077"
        ],
        [
         "std",
         "45.909207067536805",
         "5.877212451230812",
         "0.3357497781128177"
        ],
        [
         "min",
         "27.020555555555557",
         "12.703333333333333",
         "-0.68"
        ],
        [
         "25%",
         "49.57113636363637",
         "21.764565789473686",
         "0.2425"
        ],
        [
         "50%",
         "74.52772727272726",
         "24.899130434782606",
         "0.43"
        ],
        [
         "75%",
         "126.86318181818183",
         "30.273478260869567",
         "0.61"
        ],
        [
         "max",
         "199.60227272727272",
         "42.827894736842104",
         "1.62"
        ]
       ],
       "shape": {
        "columns": 3,
        "rows": 8
       }
      },
      "text/html": [
       "<div>\n",
       "<style scoped>\n",
       "    .dataframe tbody tr th:only-of-type {\n",
       "        vertical-align: middle;\n",
       "    }\n",
       "\n",
       "    .dataframe tbody tr th {\n",
       "        vertical-align: top;\n",
       "    }\n",
       "\n",
       "    .dataframe thead th {\n",
       "        text-align: right;\n",
       "    }\n",
       "</style>\n",
       "<table border=\"1\" class=\"dataframe\">\n",
       "  <thead>\n",
       "    <tr style=\"text-align: right;\">\n",
       "      <th></th>\n",
       "      <th>Preco_Soja_real</th>\n",
       "      <th>Preco_Soja_Dolar</th>\n",
       "      <th>IPCA_Mensal_prc</th>\n",
       "    </tr>\n",
       "  </thead>\n",
       "  <tbody>\n",
       "    <tr>\n",
       "      <th>count</th>\n",
       "      <td>235.000000</td>\n",
       "      <td>235.000000</td>\n",
       "      <td>234.000000</td>\n",
       "    </tr>\n",
       "    <tr>\n",
       "      <th>mean</th>\n",
       "      <td>87.439276</td>\n",
       "      <td>25.886738</td>\n",
       "      <td>0.452692</td>\n",
       "    </tr>\n",
       "    <tr>\n",
       "      <th>std</th>\n",
       "      <td>45.909207</td>\n",
       "      <td>5.877212</td>\n",
       "      <td>0.335750</td>\n",
       "    </tr>\n",
       "    <tr>\n",
       "      <th>min</th>\n",
       "      <td>27.020556</td>\n",
       "      <td>12.703333</td>\n",
       "      <td>-0.680000</td>\n",
       "    </tr>\n",
       "    <tr>\n",
       "      <th>25%</th>\n",
       "      <td>49.571136</td>\n",
       "      <td>21.764566</td>\n",
       "      <td>0.242500</td>\n",
       "    </tr>\n",
       "    <tr>\n",
       "      <th>50%</th>\n",
       "      <td>74.527727</td>\n",
       "      <td>24.899130</td>\n",
       "      <td>0.430000</td>\n",
       "    </tr>\n",
       "    <tr>\n",
       "      <th>75%</th>\n",
       "      <td>126.863182</td>\n",
       "      <td>30.273478</td>\n",
       "      <td>0.610000</td>\n",
       "    </tr>\n",
       "    <tr>\n",
       "      <th>max</th>\n",
       "      <td>199.602273</td>\n",
       "      <td>42.827895</td>\n",
       "      <td>1.620000</td>\n",
       "    </tr>\n",
       "  </tbody>\n",
       "</table>\n",
       "</div>"
      ],
      "text/plain": [
       "       Preco_Soja_real  Preco_Soja_Dolar  IPCA_Mensal_prc\n",
       "count       235.000000        235.000000       234.000000\n",
       "mean         87.439276         25.886738         0.452692\n",
       "std          45.909207          5.877212         0.335750\n",
       "min          27.020556         12.703333        -0.680000\n",
       "25%          49.571136         21.764566         0.242500\n",
       "50%          74.527727         24.899130         0.430000\n",
       "75%         126.863182         30.273478         0.610000\n",
       "max         199.602273         42.827895         1.620000"
      ]
     },
     "execution_count": 67,
     "metadata": {},
     "output_type": "execute_result"
    }
   ],
   "source": [
    "df_merged.describe()"
   ]
  },
  {
   "cell_type": "code",
   "execution_count": null,
   "id": "865204ad",
   "metadata": {},
   "outputs": [],
   "source": []
  }
 ],
 "metadata": {
  "kernelspec": {
   "display_name": "base",
   "language": "python",
   "name": "python3"
  },
  "language_info": {
   "codemirror_mode": {
    "name": "ipython",
    "version": 3
   },
   "file_extension": ".py",
   "mimetype": "text/x-python",
   "name": "python",
   "nbconvert_exporter": "python",
   "pygments_lexer": "ipython3",
   "version": "3.11.7"
  }
 },
 "nbformat": 4,
 "nbformat_minor": 5
}
